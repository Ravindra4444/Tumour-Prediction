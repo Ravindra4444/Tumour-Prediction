{
  "nbformat": 4,
  "nbformat_minor": 0,
  "metadata": {
    "colab": {
      "name": "Tumour-Non-Tumour.ipynb",
      "version": "0.3.2",
      "provenance": [],
      "collapsed_sections": []
    },
    "kernelspec": {
      "name": "python3",
      "display_name": "Python 3"
    },
    "accelerator": "GPU"
  },
  "cells": [
    {
      "metadata": {
        "id": "Vca9-UkErRNH",
        "colab_type": "code",
        "outputId": "2a4d52a0-f71b-4869-c65c-d4b0d29639f8",
        "colab": {
          "base_uri": "https://localhost:8080/",
          "height": 163
        }
      },
      "cell_type": "code",
      "source": [
        "!pip install keras --upgrade"
      ],
      "execution_count": 0,
      "outputs": [
        {
          "output_type": "stream",
          "text": [
            "Requirement already up-to-date: keras in /usr/local/lib/python3.6/dist-packages (2.2.4)\n",
            "Requirement already satisfied, skipping upgrade: keras-applications>=1.0.6 in /usr/local/lib/python3.6/dist-packages (from keras) (1.0.7)\n",
            "Requirement already satisfied, skipping upgrade: numpy>=1.9.1 in /usr/local/lib/python3.6/dist-packages (from keras) (1.14.6)\n",
            "Requirement already satisfied, skipping upgrade: scipy>=0.14 in /usr/local/lib/python3.6/dist-packages (from keras) (1.1.0)\n",
            "Requirement already satisfied, skipping upgrade: keras-preprocessing>=1.0.5 in /usr/local/lib/python3.6/dist-packages (from keras) (1.0.9)\n",
            "Requirement already satisfied, skipping upgrade: h5py in /usr/local/lib/python3.6/dist-packages (from keras) (2.8.0)\n",
            "Requirement already satisfied, skipping upgrade: six>=1.9.0 in /usr/local/lib/python3.6/dist-packages (from keras) (1.11.0)\n",
            "Requirement already satisfied, skipping upgrade: pyyaml in /usr/local/lib/python3.6/dist-packages (from keras) (3.13)\n"
          ],
          "name": "stdout"
        }
      ]
    },
    {
      "metadata": {
        "id": "H5E1KEpFhwJH",
        "colab_type": "code",
        "outputId": "64f21ee2-8a67-4311-fbae-0f5240226cd8",
        "colab": {
          "base_uri": "https://localhost:8080/",
          "height": 128
        }
      },
      "cell_type": "code",
      "source": [
        "from google.colab import drive\n",
        "drive.mount('/content/drive')"
      ],
      "execution_count": 0,
      "outputs": [
        {
          "output_type": "stream",
          "text": [
            "Go to this URL in a browser: https://accounts.google.com/o/oauth2/auth?client_id=947318989803-6bn6qk8qdgf4n4g3pfee6491hc0brc4i.apps.googleusercontent.com&redirect_uri=urn%3Aietf%3Awg%3Aoauth%3A2.0%3Aoob&scope=email%20https%3A%2F%2Fwww.googleapis.com%2Fauth%2Fdocs.test%20https%3A%2F%2Fwww.googleapis.com%2Fauth%2Fdrive%20https%3A%2F%2Fwww.googleapis.com%2Fauth%2Fdrive.photos.readonly%20https%3A%2F%2Fwww.googleapis.com%2Fauth%2Fpeopleapi.readonly&response_type=code\n",
            "\n",
            "Enter your authorization code:\n",
            "··········\n",
            "Mounted at /content/drive\n"
          ],
          "name": "stdout"
        }
      ]
    },
    {
      "metadata": {
        "id": "xQP5H_BCl0G_",
        "colab_type": "code",
        "outputId": "c2596d39-3104-4907-bc10-756fb39932df",
        "colab": {
          "base_uri": "https://localhost:8080/",
          "height": 35
        }
      },
      "cell_type": "code",
      "source": [
        "import os\n",
        "os.getcwd()"
      ],
      "execution_count": 0,
      "outputs": [
        {
          "output_type": "execute_result",
          "data": {
            "text/plain": [
              "'/content'"
            ]
          },
          "metadata": {
            "tags": []
          },
          "execution_count": 4
        }
      ]
    },
    {
      "metadata": {
        "id": "rIgHBtb3mqs-",
        "colab_type": "code",
        "outputId": "ad29d530-684c-4190-b831-ac80bb5ded69",
        "colab": {
          "base_uri": "https://localhost:8080/",
          "height": 35
        }
      },
      "cell_type": "code",
      "source": [
        "cd '/content/drive/My Drive/Google_Collab/'"
      ],
      "execution_count": 0,
      "outputs": [
        {
          "output_type": "stream",
          "text": [
            "/content/drive/My Drive/Google_Collab\n"
          ],
          "name": "stdout"
        }
      ]
    },
    {
      "metadata": {
        "id": "jfC5yuPmM-wl",
        "colab_type": "code",
        "colab": {}
      },
      "cell_type": "code",
      "source": [
        "import glob\n",
        "import pandas as pd\n",
        "import numpy as np\n",
        "import re"
      ],
      "execution_count": 0,
      "outputs": []
    },
    {
      "metadata": {
        "id": "j5AxXZJznmNE",
        "colab_type": "code",
        "colab": {}
      },
      "cell_type": "code",
      "source": [
        "traint=pd.DataFrame(columns=['path','idd','class_type'])\n",
        "classs=[]\n",
        "path=[]\n",
        "tumor=[]\n",
        "for p in glob.glob('/content/drive/My Drive/Google_Collab/training/*'):\n",
        "  if 'True.png' in p:\n",
        "    classs.append(1)\n",
        "    tumor.append('tumor')\n",
        "  else:\n",
        "    classs.append(0)\n",
        "    tumor.append('nontumor')\n",
        "  xf=p.split('/',5)[-1]\n",
        "  path.append('./'+xf)\n",
        "traint['path']=path\n",
        "traint['idd']=classs\n",
        "traint['class_type']=tumor"
      ],
      "execution_count": 0,
      "outputs": []
    },
    {
      "metadata": {
        "id": "sdzOapuTRUzB",
        "colab_type": "code",
        "outputId": "574289ae-89cb-4eac-e6cc-cd843205a7d5",
        "colab": {
          "base_uri": "https://localhost:8080/",
          "height": 216
        }
      },
      "cell_type": "code",
      "source": [
        "print(len(traint))\n",
        "traint.head()"
      ],
      "execution_count": 0,
      "outputs": [
        {
          "output_type": "stream",
          "text": [
            "2125\n"
          ],
          "name": "stdout"
        },
        {
          "output_type": "execute_result",
          "data": {
            "text/html": [
              "<div>\n",
              "<style scoped>\n",
              "    .dataframe tbody tr th:only-of-type {\n",
              "        vertical-align: middle;\n",
              "    }\n",
              "\n",
              "    .dataframe tbody tr th {\n",
              "        vertical-align: top;\n",
              "    }\n",
              "\n",
              "    .dataframe thead th {\n",
              "        text-align: right;\n",
              "    }\n",
              "</style>\n",
              "<table border=\"1\" class=\"dataframe\">\n",
              "  <thead>\n",
              "    <tr style=\"text-align: right;\">\n",
              "      <th></th>\n",
              "      <th>path</th>\n",
              "      <th>idd</th>\n",
              "      <th>class_type</th>\n",
              "    </tr>\n",
              "  </thead>\n",
              "  <tbody>\n",
              "    <tr>\n",
              "      <th>0</th>\n",
              "      <td>./training/HG0025-102-True.png</td>\n",
              "      <td>1</td>\n",
              "      <td>tumor</td>\n",
              "    </tr>\n",
              "    <tr>\n",
              "      <th>1</th>\n",
              "      <td>./training/HG0025-103-True.png</td>\n",
              "      <td>1</td>\n",
              "      <td>tumor</td>\n",
              "    </tr>\n",
              "    <tr>\n",
              "      <th>2</th>\n",
              "      <td>./training/HG0025-106-True.png</td>\n",
              "      <td>1</td>\n",
              "      <td>tumor</td>\n",
              "    </tr>\n",
              "    <tr>\n",
              "      <th>3</th>\n",
              "      <td>./training/HG0025-105-True.png</td>\n",
              "      <td>1</td>\n",
              "      <td>tumor</td>\n",
              "    </tr>\n",
              "    <tr>\n",
              "      <th>4</th>\n",
              "      <td>./training/HG0025-110-True.png</td>\n",
              "      <td>1</td>\n",
              "      <td>tumor</td>\n",
              "    </tr>\n",
              "  </tbody>\n",
              "</table>\n",
              "</div>"
            ],
            "text/plain": [
              "                             path  idd class_type\n",
              "0  ./training/HG0025-102-True.png    1      tumor\n",
              "1  ./training/HG0025-103-True.png    1      tumor\n",
              "2  ./training/HG0025-106-True.png    1      tumor\n",
              "3  ./training/HG0025-105-True.png    1      tumor\n",
              "4  ./training/HG0025-110-True.png    1      tumor"
            ]
          },
          "metadata": {
            "tags": []
          },
          "execution_count": 30
        }
      ]
    },
    {
      "metadata": {
        "id": "m9SzuegWnwVn",
        "colab_type": "code",
        "colab": {}
      },
      "cell_type": "code",
      "source": [
        "%matplotlib inline\n",
        "import datetime as dt\n",
        "import matplotlib.pyplot as plt\n",
        "\n",
        "import numpy as np\n",
        "import os\n",
        "import pandas as pd\n",
        "import seaborn as sns\n",
        "from keras.applications import xception\n",
        "from keras.preprocessing import image\n",
        "from mpl_toolkits.axes_grid1 import ImageGrid\n",
        "from sklearn.linear_model import LogisticRegression\n",
        "from sklearn.metrics import accuracy_score, confusion_matrix\n",
        "from tqdm import tqdm\n",
        "import glob\n",
        "import cv2\n",
        "import re\n",
        "from skimage.io import imshow,imread\n",
        "from skimage.transform import resize\n",
        "\n",
        "from sklearn.preprocessing import LabelEncoder\n",
        "from keras.utils import to_categorical\n",
        "import keras\n",
        "from sklearn.model_selection import train_test_split\n",
        "\n",
        "from keras.utils import plot_model\n",
        "from keras.models import Model\n",
        "from keras.layers import Input\n",
        "from keras.layers import Dense\n",
        "from keras.layers import Flatten\n",
        "from keras.layers import Activation\n",
        "from keras.layers import Dropout\n",
        "from keras.layers.core import Dropout, Lambda\n",
        "from keras.layers import Maximum\n",
        "from keras.layers import ZeroPadding2D\n",
        "from keras.layers.convolutional import Conv2D\n",
        "from keras.layers.pooling import MaxPooling2D\n",
        "from keras.layers.merge import concatenate\n",
        "from keras import regularizers\n",
        "from keras.layers import BatchNormalization\n",
        "from keras.optimizers import Adam, SGD\n",
        "from keras.preprocessing.image import ImageDataGenerator\n",
        "from keras.callbacks import ModelCheckpoint, ReduceLROnPlateau\n",
        "from keras.layers.advanced_activations import LeakyReLU"
      ],
      "execution_count": 0,
      "outputs": []
    },
    {
      "metadata": {
        "id": "AmWphMjiqNav",
        "colab_type": "code",
        "colab": {}
      },
      "cell_type": "code",
      "source": [
        "lb=LabelEncoder()\n",
        "train_y=lb.fit_transform(traint.idd.values)\n",
        "train_y=keras.utils.to_categorical(train_y)"
      ],
      "execution_count": 0,
      "outputs": []
    },
    {
      "metadata": {
        "id": "puSu6pEQV7Uc",
        "colab_type": "code",
        "outputId": "e7d28f4b-d4b6-4c20-aaa5-3be2692bc293",
        "colab": {
          "base_uri": "https://localhost:8080/",
          "height": 286
        }
      },
      "cell_type": "code",
      "source": [
        "length=len(traint)"
      ],
      "execution_count": 0,
      "outputs": [
        {
          "output_type": "execute_result",
          "data": {
            "text/plain": [
              "<matplotlib.image.AxesImage at 0x7fcf2c64a358>"
            ]
          },
          "metadata": {
            "tags": []
          },
          "execution_count": 66
        },
        {
          "output_type": "display_data",
          "data": {
            "image/png": "[encoded data removed]",
            "text/plain": [
              "<Figure size 432x288 with 1 Axes>"
            ]
          },
          "metadata": {
            "tags": []
          }
        }
      ]
    },
    {
      "metadata": {
        "id": "Ye4w4vS8H_e3",
        "colab_type": "code",
        "colab": {}
      },
      "cell_type": "code",
      "source": [
        "import time\n",
        "from tqdm import tqdm\n",
        "length=len(traint)\n",
        "\n",
        "def read_imgs(paths):\n",
        "  traint=np.zeros((length,64,64,1),dtype=np.uint8)\n",
        "  for j,p in tqdm(enumerate(paths)):\n",
        "    img=imread(p)\n",
        "    img=resize(img,(64,64),mode='constant',preserve_range=True)\n",
        "    traint[j]=np.expand_dims(img,axis=-1)\n",
        "  print(traint.shape)\n",
        "  return traint"
      ],
      "execution_count": 0,
      "outputs": []
    },
    {
      "metadata": {
        "id": "ZQERcImWRGLZ",
        "colab_type": "code",
        "outputId": "9feb8cd5-8f87-4182-e3d7-aa7714e24f01",
        "colab": {
          "base_uri": "https://localhost:8080/",
          "height": 54
        }
      },
      "cell_type": "code",
      "source": [
        "train_x = read_imgs(traint['path'].values)"
      ],
      "execution_count": 0,
      "outputs": [
        {
          "output_type": "stream",
          "text": [
            "2125it [19:39,  1.71it/s]"
          ],
          "name": "stderr"
        },
        {
          "output_type": "stream",
          "text": [
            "(2125, 64, 64, 1)\n"
          ],
          "name": "stdout"
        },
        {
          "output_type": "stream",
          "text": [
            "\n"
          ],
          "name": "stderr"
        }
      ]
    },
    {
      "metadata": {
        "id": "-8glDVRClAAO",
        "colab_type": "code",
        "colab": {}
      },
      "cell_type": "code",
      "source": [
        "import h5py"
      ],
      "execution_count": 0,
      "outputs": []
    },
    {
      "metadata": {
        "id": "eNBvNbOHjdP8",
        "colab_type": "code",
        "colab": {}
      },
      "cell_type": "code",
      "source": [
        "f=h5py.File('/content/drive/My Drive/Google_Collab/train2.h5','w')\n",
        "f.create_dataset('train_x',data=train_x)\n",
        "f.create_dataset('train_y',data=train_y)\n",
        "f.close()"
      ],
      "execution_count": 0,
      "outputs": []
    },
    {
      "metadata": {
        "id": "11Hs_0hDlrxI",
        "colab_type": "code",
        "outputId": "28c09be9-b7d2-4183-ebdf-2f386fa16a8a",
        "colab": {
          "base_uri": "https://localhost:8080/",
          "height": 35
        }
      },
      "cell_type": "code",
      "source": [
        "f5=h5py.File('/content/drive/My Drive/Google_Collab/train2.h5','r')\n",
        "train_x=f5['train_x'][:]\n",
        "f5.close()\n",
        "print(train_x.shape)"
      ],
      "execution_count": 0,
      "outputs": [
        {
          "output_type": "stream",
          "text": [
            "(2125, 64, 64, 1)\n"
          ],
          "name": "stdout"
        }
      ]
    },
    {
      "metadata": {
        "id": "AfZm-47GBvAJ",
        "colab_type": "code",
        "colab": {}
      },
      "cell_type": "code",
      "source": [
        "train_x,xvalid,train_y,yvalid=train_test_split(train_x,train_y,shuffle=True,test_size=0.15,random_state=42)\n"
      ],
      "execution_count": 0,
      "outputs": []
    },
    {
      "metadata": {
        "id": "tUpJXli3qbCJ",
        "colab_type": "code",
        "colab": {}
      },
      "cell_type": "code",
      "source": [
        "BATCH_SIZE = 32\n",
        "EPOCHS = 20\n",
        "RANDOM_STATE = 11\n"
      ],
      "execution_count": 0,
      "outputs": []
    },
    {
      "metadata": {
        "id": "mBcztCheqj10",
        "colab_type": "code",
        "colab": {}
      },
      "cell_type": "code",
      "source": [
        "def dense_set(inp_layer, n, activation, drop_rate=0.1):\n",
        " \n",
        "    dp = Dropout(drop_rate)(inp_layer)\n",
        "    dns = Dense(n)(dp)\n",
        "    bn = BatchNormalization(axis=-1)(dns)\n",
        "    act = Activation(activation=activation)(bn)\n",
        "    return act\n",
        "\n",
        "\n",
        "\n",
        "def get_model():\n",
        "    inp_img = Input(shape=(64, 64, 1))\n",
        "    s=Lambda(lambda x: x/225)(inp_img)\n",
        "    # 51\n",
        "    c1 = Conv2D(16,(3,3),activation='elu',kernel_initializer='he_normal',padding='same')(s)\n",
        "    c1=Dropout(0.1)(c1)\n",
        "    p1=MaxPooling2D(pool_size=(2, 2), strides=(2, 2))(c1)\n",
        "\n",
        "    c2 = Conv2D(32,(3,3),activation='elu',kernel_initializer='he_normal',padding='same')(p1)\n",
        "    c2=Dropout(0.1)(c2)\n",
        "    p2=MaxPooling2D(pool_size=(2, 2), strides=(2, 2))(c2)\n",
        "\n",
        "    c3 = Conv2D(64,(3,3),activation='elu',kernel_initializer='he_normal',padding='same')(p2)\n",
        "    c3=Dropout(0.1)(c3)\n",
        "    p3=MaxPooling2D(pool_size=(2, 2), strides=(2, 2))(c3)\n",
        "\n",
        "\n",
        "    flt = Flatten()(p3)\n",
        "    ds1 = dense_set(flt, 128, activation='elu')\n",
        "    out = dense_set(ds1, 2, activation='softmax')\n",
        "\n",
        "    model = Model(inputs=inp_img, outputs=out)\n",
        "    \n",
        "    # The first 50 epochs are used by Adam opt.\n",
        "    # Then 30 epochs are used by SGD opt.\n",
        "    \n",
        "    mypotim = Adam()\n",
        "#     mypotim = SGD(lr=1 * 1e-1, momentum=0.9, nesterov=True)\n",
        "    model.compile(loss='categorical_crossentropy',\n",
        "                   optimizer=mypotim,\n",
        "                   metrics=['accuracy'])\n",
        "    model.summary()\n",
        "    return model"
      ],
      "execution_count": 0,
      "outputs": []
    },
    {
      "metadata": {
        "id": "OzAy4unYqkH1",
        "colab_type": "code",
        "colab": {}
      },
      "cell_type": "code",
      "source": [
        "filepath='/content/drive/My Drive/Google_Collab/weights-improvement-{epoch:02d}-{val_acc:.2f}.hdf5'"
      ],
      "execution_count": 0,
      "outputs": []
    },
    {
      "metadata": {
        "id": "uu-Rc5dasCc2",
        "colab_type": "code",
        "colab": {}
      },
      "cell_type": "code",
      "source": [
        "def get_callbacks(filepath, patience=5):\n",
        "    lr_reduce = ReduceLROnPlateau(monitor='val_acc', factor=0.1, patience=patience)\n",
        "    checkpoints = ModelCheckpoint(filepath, monitor='val_acc',verbose=1,save_best_only=True,mode='max')\n",
        "    return [lr_reduce, checkpoints]"
      ],
      "execution_count": 0,
      "outputs": []
    },
    {
      "metadata": {
        "id": "OoLbjPRRsEvB",
        "colab_type": "code",
        "colab": {}
      },
      "cell_type": "code",
      "source": [
        "def train_model(img, target):\n",
        "    callbacks = get_callbacks(filepath=filepath, patience=6)\n",
        "    gmodel = get_model()\n",
        "#     gmodel.load_weights(filepath='model_weight_Adam.hdf5')\n",
        "    x_train, x_valid, y_train, y_valid = train_test_split(\n",
        "                                                        img,\n",
        "                                                        target,\n",
        "                                                        shuffle=True,\n",
        "                                                        test_size=0.2,\n",
        "                                                        random_state=RANDOM_STATE\n",
        "                                                        )\n",
        "    gen = ImageDataGenerator(\n",
        "            rotation_range=360.,\n",
        "            width_shift_range=0.3,\n",
        "            height_shift_range=0.3,\n",
        "            zoom_range=0.3,\n",
        "            horizontal_flip=True,\n",
        "            vertical_flip=True\n",
        "    )\n",
        "    gmodel.fit_generator(gen.flow(x_train, y_train,batch_size=BATCH_SIZE),\n",
        "               steps_per_epoch=10*len(x_train)/BATCH_SIZE,\n",
        "               epochs=EPOCHS,\n",
        "               verbose=1,\n",
        "               shuffle=True,\n",
        "               validation_data=(x_valid, y_valid),\n",
        "               callbacks=callbacks)"
      ],
      "execution_count": 0,
      "outputs": []
    },
    {
      "metadata": {
        "id": "U-Id5SPisvHn",
        "colab_type": "code",
        "outputId": "412bbc2f-f94c-4a5e-f564-a62226e83f0e",
        "colab": {
          "base_uri": "https://localhost:8080/",
          "height": 2401
        }
      },
      "cell_type": "code",
      "source": [
        "train_model(train_x,train_y)"
      ],
      "execution_count": 0,
      "outputs": [
        {
          "output_type": "stream",
          "text": [
            "_________________________________________________________________\n",
            "Layer (type)                 Output Shape              Param #   \n",
            "=================================================================\n",
            "input_7 (InputLayer)         (None, 64, 64, 1)         0         \n",
            "_________________________________________________________________\n",
            "lambda_4 (Lambda)            (None, 64, 64, 1)         0         \n",
            "_________________________________________________________________\n",
            "conv2d_6 (Conv2D)            (None, 64, 64, 16)        160       \n",
            "_________________________________________________________________\n",
            "dropout_6 (Dropout)          (None, 64, 64, 16)        0         \n",
            "_________________________________________________________________\n",
            "max_pooling2d_4 (MaxPooling2 (None, 32, 32, 16)        0         \n",
            "_________________________________________________________________\n",
            "conv2d_7 (Conv2D)            (None, 32, 32, 32)        4640      \n",
            "_________________________________________________________________\n",
            "dropout_7 (Dropout)          (None, 32, 32, 32)        0         \n",
            "_________________________________________________________________\n",
            "max_pooling2d_5 (MaxPooling2 (None, 16, 16, 32)        0         \n",
            "_________________________________________________________________\n",
            "conv2d_8 (Conv2D)            (None, 16, 16, 64)        18496     \n",
            "_________________________________________________________________\n",
            "dropout_8 (Dropout)          (None, 16, 16, 64)        0         \n",
            "_________________________________________________________________\n",
            "max_pooling2d_6 (MaxPooling2 (None, 8, 8, 64)          0         \n",
            "_________________________________________________________________\n",
            "flatten_2 (Flatten)          (None, 4096)              0         \n",
            "_________________________________________________________________\n",
            "dropout_9 (Dropout)          (None, 4096)              0         \n",
            "_________________________________________________________________\n",
            "dense_1 (Dense)              (None, 128)               524416    \n",
            "_________________________________________________________________\n",
            "batch_normalization_1 (Batch (None, 128)               512       \n",
            "_________________________________________________________________\n",
            "activation_1 (Activation)    (None, 128)               0         \n",
            "_________________________________________________________________\n",
            "dropout_10 (Dropout)         (None, 128)               0         \n",
            "_________________________________________________________________\n",
            "dense_2 (Dense)              (None, 2)                 258       \n",
            "_________________________________________________________________\n",
            "batch_normalization_2 (Batch (None, 2)                 8         \n",
            "_________________________________________________________________\n",
            "activation_2 (Activation)    (None, 2)                 0         \n",
            "=================================================================\n",
            "Total params: 548,490\n",
            "Trainable params: 548,230\n",
            "Non-trainable params: 260\n",
            "_________________________________________________________________\n",
            "WARNING:tensorflow:From /usr/local/lib/python3.6/dist-packages/tensorflow/python/ops/math_ops.py:3066: to_int32 (from tensorflow.python.ops.math_ops) is deprecated and will be removed in a future version.\n",
            "Instructions for updating:\n",
            "Use tf.cast instead.\n",
            "Epoch 1/20\n",
            "452/451 [==============================] - 18s 40ms/step - loss: 0.6081 - acc: 0.6434 - val_loss: 0.5839 - val_acc: 0.6851\n",
            "\n",
            "Epoch 00001: val_acc improved from -inf to 0.68508, saving model to /content/drive/My Drive/Google_Collab/weights-improvement-01-0.69.hdf5\n",
            "Epoch 2/20\n",
            "452/451 [==============================] - 13s 29ms/step - loss: 0.5156 - acc: 0.7253 - val_loss: 0.7452 - val_acc: 0.6823\n",
            "\n",
            "Epoch 00002: val_acc did not improve from 0.68508\n",
            "Epoch 3/20\n",
            "452/451 [==============================] - 13s 29ms/step - loss: 0.4940 - acc: 0.7409 - val_loss: 0.4727 - val_acc: 0.6934\n",
            "\n",
            "Epoch 00003: val_acc improved from 0.68508 to 0.69337, saving model to /content/drive/My Drive/Google_Collab/weights-improvement-03-0.69.hdf5\n",
            "Epoch 4/20\n",
            "452/451 [==============================] - 13s 30ms/step - loss: 0.4821 - acc: 0.7465 - val_loss: 1.1629 - val_acc: 0.6823\n",
            "\n",
            "Epoch 00004: val_acc did not improve from 0.69337\n",
            "Epoch 5/20\n",
            "452/451 [==============================] - 13s 29ms/step - loss: 0.4709 - acc: 0.7567 - val_loss: 0.6681 - val_acc: 0.6823\n",
            "\n",
            "Epoch 00005: val_acc did not improve from 0.69337\n",
            "Epoch 6/20\n",
            "452/451 [==============================] - 13s 30ms/step - loss: 0.4692 - acc: 0.7615 - val_loss: 0.4993 - val_acc: 0.6878\n",
            "\n",
            "Epoch 00006: val_acc did not improve from 0.69337\n",
            "Epoch 7/20\n",
            "452/451 [==============================] - 13s 30ms/step - loss: 0.4641 - acc: 0.7682 - val_loss: 0.7007 - val_acc: 0.6823\n",
            "\n",
            "Epoch 00007: val_acc did not improve from 0.69337\n",
            "Epoch 8/20\n",
            "452/451 [==============================] - 13s 30ms/step - loss: 0.4610 - acc: 0.7694 - val_loss: 0.5761 - val_acc: 0.6823\n",
            "\n",
            "Epoch 00008: val_acc did not improve from 0.69337\n",
            "Epoch 9/20\n",
            "452/451 [==============================] - 13s 29ms/step - loss: 0.4597 - acc: 0.7732 - val_loss: 1.0290 - val_acc: 0.6823\n",
            "\n",
            "Epoch 00009: val_acc did not improve from 0.69337\n",
            "Epoch 10/20\n",
            "452/451 [==============================] - 13s 29ms/step - loss: 0.4504 - acc: 0.7767 - val_loss: 0.8758 - val_acc: 0.6823\n",
            "\n",
            "Epoch 00010: val_acc did not improve from 0.69337\n",
            "Epoch 11/20\n",
            "452/451 [==============================] - 13s 30ms/step - loss: 0.4482 - acc: 0.7761 - val_loss: 0.7398 - val_acc: 0.6823\n",
            "\n",
            "Epoch 00011: val_acc did not improve from 0.69337\n",
            "Epoch 12/20\n",
            "452/451 [==============================] - 13s 30ms/step - loss: 0.4424 - acc: 0.7805 - val_loss: 0.6138 - val_acc: 0.6878\n",
            "\n",
            "Epoch 00012: val_acc did not improve from 0.69337\n",
            "Epoch 13/20\n",
            "452/451 [==============================] - 13s 30ms/step - loss: 0.4441 - acc: 0.7846 - val_loss: 0.7326 - val_acc: 0.6823\n",
            "\n",
            "Epoch 00013: val_acc did not improve from 0.69337\n",
            "Epoch 14/20\n",
            "452/451 [==============================] - 13s 30ms/step - loss: 0.4469 - acc: 0.7750 - val_loss: 0.6128 - val_acc: 0.6878\n",
            "\n",
            "Epoch 00014: val_acc did not improve from 0.69337\n",
            "Epoch 15/20\n",
            "452/451 [==============================] - 13s 30ms/step - loss: 0.4433 - acc: 0.7804 - val_loss: 0.6799 - val_acc: 0.6823\n",
            "\n",
            "Epoch 00015: val_acc did not improve from 0.69337\n",
            "Epoch 16/20\n",
            "452/451 [==============================] - 13s 30ms/step - loss: 0.4468 - acc: 0.7815 - val_loss: 0.6406 - val_acc: 0.6851\n",
            "\n",
            "Epoch 00016: val_acc did not improve from 0.69337\n",
            "Epoch 17/20\n",
            "452/451 [==============================] - 13s 29ms/step - loss: 0.4402 - acc: 0.7803 - val_loss: 0.6670 - val_acc: 0.6823\n",
            "\n",
            "Epoch 00017: val_acc did not improve from 0.69337\n",
            "Epoch 18/20\n",
            "452/451 [==============================] - 13s 29ms/step - loss: 0.4380 - acc: 0.7848 - val_loss: 0.6614 - val_acc: 0.6823\n",
            "\n",
            "Epoch 00018: val_acc did not improve from 0.69337\n",
            "Epoch 19/20\n",
            "452/451 [==============================] - 13s 29ms/step - loss: 0.4484 - acc: 0.7770 - val_loss: 0.6570 - val_acc: 0.6823\n",
            "\n",
            "Epoch 00019: val_acc did not improve from 0.69337\n",
            "Epoch 20/20\n",
            "452/451 [==============================] - 13s 29ms/step - loss: 0.4431 - acc: 0.7808 - val_loss: 0.6642 - val_acc: 0.6823\n",
            "\n",
            "Epoch 00020: val_acc did not improve from 0.69337\n"
          ],
          "name": "stdout"
        }
      ]
    },
    {
      "metadata": {
        "id": "NFFPYgW2Vl3j",
        "colab_type": "code",
        "outputId": "271d1e49-76c5-4cac-d075-753a2d67d8e8",
        "colab": {
          "base_uri": "https://localhost:8080/",
          "height": 872
        }
      },
      "cell_type": "code",
      "source": [
        "modeltest=get_model()"
      ],
      "execution_count": 0,
      "outputs": [
        {
          "output_type": "stream",
          "text": [
            "_________________________________________________________________\n",
            "Layer (type)                 Output Shape              Param #   \n",
            "=================================================================\n",
            "input_8 (InputLayer)         (None, 64, 64, 1)         0         \n",
            "_________________________________________________________________\n",
            "lambda_5 (Lambda)            (None, 64, 64, 1)         0         \n",
            "_________________________________________________________________\n",
            "conv2d_9 (Conv2D)            (None, 64, 64, 16)        160       \n",
            "_________________________________________________________________\n",
            "dropout_11 (Dropout)         (None, 64, 64, 16)        0         \n",
            "_________________________________________________________________\n",
            "max_pooling2d_7 (MaxPooling2 (None, 32, 32, 16)        0         \n",
            "_________________________________________________________________\n",
            "conv2d_10 (Conv2D)           (None, 32, 32, 32)        4640      \n",
            "_________________________________________________________________\n",
            "dropout_12 (Dropout)         (None, 32, 32, 32)        0         \n",
            "_________________________________________________________________\n",
            "max_pooling2d_8 (MaxPooling2 (None, 16, 16, 32)        0         \n",
            "_________________________________________________________________\n",
            "conv2d_11 (Conv2D)           (None, 16, 16, 64)        18496     \n",
            "_________________________________________________________________\n",
            "dropout_13 (Dropout)         (None, 16, 16, 64)        0         \n",
            "_________________________________________________________________\n",
            "max_pooling2d_9 (MaxPooling2 (None, 8, 8, 64)          0         \n",
            "_________________________________________________________________\n",
            "flatten_3 (Flatten)          (None, 4096)              0         \n",
            "_________________________________________________________________\n",
            "dropout_14 (Dropout)         (None, 4096)              0         \n",
            "_________________________________________________________________\n",
            "dense_3 (Dense)              (None, 128)               524416    \n",
            "_________________________________________________________________\n",
            "batch_normalization_3 (Batch (None, 128)               512       \n",
            "_________________________________________________________________\n",
            "activation_3 (Activation)    (None, 128)               0         \n",
            "_________________________________________________________________\n",
            "dropout_15 (Dropout)         (None, 128)               0         \n",
            "_________________________________________________________________\n",
            "dense_4 (Dense)              (None, 2)                 258       \n",
            "_________________________________________________________________\n",
            "batch_normalization_4 (Batch (None, 2)                 8         \n",
            "_________________________________________________________________\n",
            "activation_4 (Activation)    (None, 2)                 0         \n",
            "=================================================================\n",
            "Total params: 548,490\n",
            "Trainable params: 548,230\n",
            "Non-trainable params: 260\n",
            "_________________________________________________________________\n"
          ],
          "name": "stdout"
        }
      ]
    },
    {
      "metadata": {
        "id": "I91TceNJxgYP",
        "colab_type": "code",
        "colab": {}
      },
      "cell_type": "code",
      "source": [
        "modeltest.load_weights('/content/drive/My Drive/Google_Collab/weights-improvement-03-0.69.hdf5')"
      ],
      "execution_count": 0,
      "outputs": []
    },
    {
      "metadata": {
        "id": "BwxTB4GCzYEY",
        "colab_type": "code",
        "outputId": "794d1d3d-a6b3-49de-f8f2-dc94713066cc",
        "colab": {
          "base_uri": "https://localhost:8080/",
          "height": 54
        }
      },
      "cell_type": "code",
      "source": [
        "pred=modeltest.evaluate(xvalid,yvalid)\n",
        "print(pred)"
      ],
      "execution_count": 0,
      "outputs": [
        {
          "output_type": "stream",
          "text": [
            "319/319 [==============================] - 0s 162us/step\n",
            "[0.5181484448498693, 0.6865203771097906]\n"
          ],
          "name": "stdout"
        }
      ]
    },
    {
      "metadata": {
        "id": "-7WclcXp96Xf",
        "colab_type": "code",
        "outputId": "129e37e5-b15d-4162-9255-317319791648",
        "colab": {
          "base_uri": "https://localhost:8080/",
          "height": 54
        }
      },
      "cell_type": "code",
      "source": [
        "print('validation lossL:{}'.format(pred[0]))\n",
        "print('validation accuracy:{}'.format(pred[1]))"
      ],
      "execution_count": 0,
      "outputs": [
        {
          "output_type": "stream",
          "text": [
            "validation lossL:0.5181484448498693\n",
            "validation accuracy:0.6865203771097906\n"
          ],
          "name": "stdout"
        }
      ]
    },
    {
      "metadata": {
        "id": "y4ZhHYASBsGJ",
        "colab_type": "code",
        "colab": {}
      },
      "cell_type": "code",
      "source": [
        "ENDNDDNDDDDDDDDDDDDDDDDDDDDDDDDDDDDDDDDDDDDDDDDDD"
      ],
      "execution_count": 0,
      "outputs": []
    },
    {
      "metadata": {
        "id": "zQr5clEhBshN",
        "colab_type": "code",
        "colab": {}
      },
      "cell_type": "code",
      "source": [
        ""
      ],
      "execution_count": 0,
      "outputs": []
    },
    {
      "metadata": {
        "id": "m_dIudpEBsv9",
        "colab_type": "code",
        "colab": {}
      },
      "cell_type": "code",
      "source": [
        ""
      ],
      "execution_count": 0,
      "outputs": []
    },
    {
      "metadata": {
        "id": "pK7uvoQIRlc0",
        "colab_type": "code",
        "colab": {}
      },
      "cell_type": "code",
      "source": [
        "actual_value=np.argmax(yvalid,axis=-1)\n"
      ],
      "execution_count": 0,
      "outputs": []
    },
    {
      "metadata": {
        "id": "msQ7RBLxT6Pd",
        "colab_type": "code",
        "colab": {}
      },
      "cell_type": "code",
      "source": [
        "actual_value.shape"
      ],
      "execution_count": 0,
      "outputs": []
    },
    {
      "metadata": {
        "id": "vcHReMVRLiBZ",
        "colab_type": "code",
        "colab": {}
      },
      "cell_type": "code",
      "source": [
        "prediction=modeltest.predict(xvalid)"
      ],
      "execution_count": 0,
      "outputs": []
    },
    {
      "metadata": {
        "id": "fqYEiUaJNd_K",
        "colab_type": "code",
        "colab": {}
      },
      "cell_type": "code",
      "source": [
        "predicted_classes=np.argmax(np.round(prediction),axis=1)"
      ],
      "execution_count": 0,
      "outputs": []
    },
    {
      "metadata": {
        "id": "Lt1xVG0HYAuh",
        "colab_type": "code",
        "colab": {}
      },
      "cell_type": "code",
      "source": [
        ""
      ],
      "execution_count": 0,
      "outputs": []
    },
    {
      "metadata": {
        "id": "jUW404zzYEJO",
        "colab_type": "text"
      },
      "cell_type": "markdown",
      "source": [
        "flatten always returns a copy.\n",
        "ravel returns a view of the original array whenever possible. This isn't visible in the printed output, but if you modify the array returned by ravel, it may modify the entries in the original array. If you modify the entries in an array returned from flatten this will never happen. ravel will often be faster since no memory is copied, but you have to be more careful about modifying the array it returns."
      ]
    },
    {
      "metadata": {
        "id": "jGg6iJJfR_Pv",
        "colab_type": "code",
        "colab": {}
      },
      "cell_type": "code",
      "source": [
        "predicted=predicted_classes.ravel()"
      ],
      "execution_count": 0,
      "outputs": []
    },
    {
      "metadata": {
        "id": "Z1DjdHRoWy_n",
        "colab_type": "code",
        "outputId": "41898c5d-0c89-4817-8be9-304c50180b1e",
        "colab": {
          "base_uri": "https://localhost:8080/",
          "height": 34
        }
      },
      "cell_type": "code",
      "source": [
        "predicted.shape"
      ],
      "execution_count": 0,
      "outputs": [
        {
          "output_type": "execute_result",
          "data": {
            "text/plain": [
              "(475,)"
            ]
          },
          "metadata": {
            "tags": []
          },
          "execution_count": 77
        }
      ]
    },
    {
      "metadata": {
        "id": "xEnrgPeyTEJo",
        "colab_type": "code",
        "colab": {}
      },
      "cell_type": "code",
      "source": [
        "from sklearn.metrics import classification_report, confusion_matrix"
      ],
      "execution_count": 0,
      "outputs": []
    },
    {
      "metadata": {
        "id": "DnmhrIApUPVY",
        "colab_type": "code",
        "outputId": "7bcdf205-8186-4e2f-a330-9e026fc0cb6b",
        "colab": {
          "base_uri": "https://localhost:8080/",
          "height": 318
        }
      },
      "cell_type": "code",
      "source": [
        "print(classification_report(actual_value,predicted))"
      ],
      "execution_count": 0,
      "outputs": [
        {
          "output_type": "stream",
          "text": [
            "             precision    recall  f1-score   support\n",
            "\n",
            "          0       0.69      0.56      0.62        16\n",
            "          1       0.98      1.00      0.99        51\n",
            "          2       0.97      0.89      0.93        36\n",
            "          3       1.00      0.80      0.89        59\n",
            "          4       0.91      0.95      0.93        22\n",
            "          5       1.00      0.92      0.96        52\n",
            "          6       0.91      1.00      0.95        60\n",
            "          7       0.96      1.00      0.98        24\n",
            "          8       0.96      0.98      0.97        56\n",
            "          9       0.71      0.89      0.79        19\n",
            "         10       0.86      1.00      0.92        48\n",
            "         11       1.00      0.97      0.98        32\n",
            "\n",
            "avg / total       0.94      0.93      0.93       475\n",
            "\n"
          ],
          "name": "stdout"
        }
      ]
    },
    {
      "metadata": {
        "id": "0xziqZwkUnW1",
        "colab_type": "code",
        "colab": {}
      },
      "cell_type": "code",
      "source": [
        "cm=confusion_matrix(actual_value,predicted)"
      ],
      "execution_count": 0,
      "outputs": []
    },
    {
      "metadata": {
        "id": "rUGethQ2buqD",
        "colab_type": "code",
        "colab": {}
      },
      "cell_type": "code",
      "source": [
        "import seaborn as sns"
      ],
      "execution_count": 0,
      "outputs": []
    },
    {
      "metadata": {
        "id": "gbxDvUxMb0Om",
        "colab_type": "code",
        "outputId": "80846332-1cce-4153-c04a-b97587fb4bc0",
        "colab": {
          "base_uri": "https://localhost:8080/",
          "height": 645
        }
      },
      "cell_type": "code",
      "source": [
        "sns.heatmap(cm,annot=True)\n",
        "plt.xlabel('predicted')\n",
        "plt.ylabel('actual')\n",
        "plt.figure()"
      ],
      "execution_count": 0,
      "outputs": [
        {
          "output_type": "execute_result",
          "data": {
            "text/plain": [
              "<matplotlib.figure.Figure at 0x7fb9095392e8>"
            ]
          },
          "metadata": {
            "tags": []
          },
          "execution_count": 94
        },
        {
          "output_type": "display_data",
          "data": {
            "image/png": "[encoded data removed]",
            "text/plain": [
              "<matplotlib.figure.Figure at 0x7fb9095397b8>"
            ]
          },
          "metadata": {
            "tags": []
          }
        },
        {
          "output_type": "display_data",
          "data": {
            "text/plain": [
              "<matplotlib.figure.Figure at 0x7fb9095392e8>"
            ]
          },
          "metadata": {
            "tags": []
          }
        }
      ]
    },
    {
      "metadata": {
        "id": "Heid5jetcAfW",
        "colab_type": "code",
        "colab": {}
      },
      "cell_type": "code",
      "source": [
        ""
      ],
      "execution_count": 0,
      "outputs": []
    }
  ]
}